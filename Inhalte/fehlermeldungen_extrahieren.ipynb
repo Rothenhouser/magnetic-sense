{
 "cells": [
  {
   "cell_type": "code",
   "execution_count": 3,
   "metadata": {},
   "outputs": [
    {
     "name": "stdout",
     "output_type": "stream",
     "text": [
      "{'AngleDifference': {'value': -8.44225027316512, 'min_value': -8.0, 'max_value': 8.0}, 'SpeedDifference': {'value': -8.44225027316512, 'min_value': -8.0, 'max_value': 8.0}}\n"
     ]
    }
   ],
   "source": [
    "# Benutzt Regular Expressions\n",
    "\n",
    "import pandas as pd\n",
    "import re\n",
    "\n",
    "patterns = {\n",
    "    'AngleDifference': r'AngleDifference - Value: ([-0-9.,]+). Min: ([-0-9.]+). Max: ([-0-9.]+)',\n",
    "    'SpeedDifference': r'AngleDifference - Value: ([-0-9.,]+). Min: ([-0-9.]+). Max: ([-0-9.]+)',\n",
    "    # Add more patterns for other parameters if needed\n",
    "}\n",
    "\n",
    "def extract_values(input_string):\n",
    "    # Define the patterns for extracting values\n",
    "\n",
    "    # Initialize the result dictionary\n",
    "    result = {}\n",
    "\n",
    "    # Loop through each pattern and extract values\n",
    "    for key, pattern in patterns.items():\n",
    "        match = re.search(pattern, input_string)\n",
    "        if match:\n",
    "            value = float(match.group(1).replace(\",\", \".\"))\n",
    "            min_value = float(match.group(2).replace(\",\", \".\"))\n",
    "            max_value = float(match.group(3).replace(\",\", \".\"))\n",
    "            result[key] = {\"value\": value, \"min_value\": min_value, \"max_value\": max_value}\n",
    "\n",
    "    return result\n",
    "\n",
    "# Example usage\n",
    "input_string = 'SortingStation ValidatePartState: FunctionTestStation 1 CalculateFunctionalTestResult: AngleDifference - Value: -8,44225027316512. Min: -8. Max: 8. SpeedDifference - Value: -6,165809999999993. Min: -6. Max: 6,5. SpeedSensor - Value: 72,92522. Min: 73. Max: 86. SpeedDifferenceMean - Value: -0,735331557215998. Min: -0,735. Max: 1,6. AngleDifferenceNoise - Value: 2,5648393131736444. Min: 0. Max: 2,18.'\n",
    "result = extract_values(input_string)\n",
    "print(result)"
   ]
  },
  {
   "cell_type": "code",
   "execution_count": null,
   "metadata": {},
   "outputs": [],
   "source": [
    "# Im File etwa so\n",
    "df = pd.read_csv(...)\n",
    "for i, row in df.items():\n",
    "    for pattern in patterns:\n",
    "        df.loc[i, pattern] = extract_values(row[\"Fehlermeldungen\"])[pattern][\"Value\"]"
   ]
  },
  {
   "cell_type": "code",
   "execution_count": null,
   "metadata": {},
   "outputs": [],
   "source": []
  }
 ],
 "metadata": {
  "kernelspec": {
   "display_name": "Python 3",
   "language": "python",
   "name": "python3"
  },
  "language_info": {
   "codemirror_mode": {
    "name": "ipython",
    "version": 3
   },
   "file_extension": ".py",
   "mimetype": "text/x-python",
   "name": "python",
   "nbconvert_exporter": "python",
   "pygments_lexer": "ipython3",
   "version": "3.11.6"
  }
 },
 "nbformat": 4,
 "nbformat_minor": 2
}
